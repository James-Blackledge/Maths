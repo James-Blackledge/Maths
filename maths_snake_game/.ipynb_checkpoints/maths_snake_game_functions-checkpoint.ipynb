{
 "cells": [
  {
   "cell_type": "markdown",
   "metadata": {},
   "source": [
    "# Mean:"
   ]
  },
  {
   "cell_type": "code",
   "execution_count": 1,
   "metadata": {},
   "outputs": [],
   "source": [
    "def mean(data_list):\n",
    "    return sum(data_list) / len(data_list)"
   ]
  },
  {
   "cell_type": "code",
   "execution_count": 2,
   "metadata": {},
   "outputs": [
    {
     "data": {
      "text/plain": [
       "5.5"
      ]
     },
     "execution_count": 2,
     "metadata": {},
     "output_type": "execute_result"
    }
   ],
   "source": [
    "mean([x for x in range(1, 11)]) #The mean of 10 numbers, ranged between 1 and 10; in ascending order."
   ]
  },
  {
   "cell_type": "markdown",
   "metadata": {},
   "source": [
    "### The Function:\n",
    "\n",
    "```python\n",
    "\n",
    "def mean(data_list)\n",
    "    \n",
    "```\n",
    "\n",
    "Here, we define a function called $mean$ which requires a parameter in order to execute. This parameter must be of a list/ array data structure.\n",
    "\n",
    "### The Return:\n",
    "\n",
    "```python\n",
    "\n",
    "return sum(data_list) / len(data_list)\n",
    "\n",
    "```\n",
    "\n",
    "In python, the $sum$ function allows us to iterate through a list of number values (integers and floats) and add up each element, returning the sum of each list element. Since the mean is calculated by dividing the sum of all values by the number of values there are, we use the $len$ function in order to get the number of items in the given list. The result is then returned, handing back a numerical value to the caller. This will allow us to utlize the result given by the use of this function."
   ]
  },
  {
   "cell_type": "markdown",
   "metadata": {},
   "source": [
    "# Median:"
   ]
  },
  {
   "cell_type": "code",
   "execution_count": 3,
   "metadata": {},
   "outputs": [],
   "source": [
    "def median(data_list):\n",
    "    data_list = sorted(data_list)\n",
    "    \n",
    "    middle_odd = data_list[len(data_list) // 2]\n",
    "    middle_even = sum(data_list[(middle_odd - 2) : middle_odd]) / 2\n",
    "    \n",
    "    return (middle_odd, middle_even)[len(data_list) % 2 == 0]"
   ]
  },
  {
   "cell_type": "code",
   "execution_count": 4,
   "metadata": {},
   "outputs": [
    {
     "data": {
      "text/plain": [
       "3"
      ]
     },
     "execution_count": 4,
     "metadata": {},
     "output_type": "execute_result"
    }
   ],
   "source": [
    "median([x for x in range(1, 6)]) #The median of 5 numbers, ranged between 1 and 5; in ascending order."
   ]
  },
  {
   "cell_type": "code",
   "execution_count": 5,
   "metadata": {},
   "outputs": [
    {
     "data": {
      "text/plain": [
       "3.5"
      ]
     },
     "execution_count": 5,
     "metadata": {},
     "output_type": "execute_result"
    }
   ],
   "source": [
    "median([x for x in range(1, 7)]) #The median of 6 numbers, ranged between 1 and 6; in ascending order."
   ]
  },
  {
   "cell_type": "markdown",
   "metadata": {},
   "source": [
    "### The Function:\n",
    "\n",
    "```python\n",
    "\n",
    "def median(data_list)\n",
    "\n",
    "```\n",
    "\n",
    "Here, we define a function called $median$ which requires a parameter in order to execute. This parameter must be of a list/ array data structure.\n",
    "\n",
    "### Sorting The List:\n",
    "\n",
    "```python\n",
    "\n",
    "data_list = sorted(data_list)\n",
    "\n",
    "```\n",
    "\n",
    "Firstly, we use the $sorted$ function in order to sort the given list in ascending order. This will make sure that we obtain the exact median, and not the median of an unsorted list.\n",
    "\n",
    "### Finding The Median of An Odd Number of Elements:\n",
    "\n",
    "```python \n",
    "\n",
    "middle_odd = data_list[len(data_list) // 2]\n",
    "\n",
    "```\n",
    "\n",
    "Here, we create a variable called $middle\\_odd$. This will work out the median when a list has an odd number of elements. In order to get the median, we need to find the element with the index of half the length of the list. In order to do this, we can take the length of the given list, using the $len$ function, and then integer divide (floor divide) the value by 2. This will then yield us the middle index of the list, thus allowing us to obtain the value at that index location; i.e the median.\n",
    "\n",
    "Alternatively, if for any reason you do not want to use the integer divide (floor divide) operator, you can use the $floor$ function included in the $math$ library and simply divide by 2:\n",
    "\n",
    "```python\n",
    "\n",
    "from math import floor\n",
    "\n",
    "middle_odd = data_list[floor(len(data_list) / 2)]\n",
    "\n",
    "```\n",
    "\n",
    "### Finding The Median of An Even Number of Elements:\n",
    "\n",
    "```python\n",
    "\n",
    "middle_even = sum(data_list[(middle_odd - 2) : middle_odd]) / 2\n",
    "\n",
    "```\n",
    "\n",
    "Here, we create a variable called $middle\\_even$. This will work out the median when a list has an even number of elements. When the list has an even number of elements, we need to add up the two middle values and divide by 2 in order to get the median of the data. This is possible by adding up the two middle indexes of the list and finding the values corresponding to those list indexes. In order to get the first middle number, we can take the middle index, as worked out in the $middle\\_odd$ variable, and subtract 2. The reason why we subtract 2 from the middle index value is because the floor divide operator always rounds down to the nearest integer value and python list slicing is exclusive. We use python list slicing in order to find the indexes of both middle elements. The $sum$ function allows us to add up the values which correspond to the two list indexes. The sum of both values is then divided by two in order to obtain the median.\n",
    "\n",
    "### The Return:\n",
    "\n",
    "```python\n",
    "\n",
    "return (middle_odd, middle_even)[len(data_list) % 2 == 0]\n",
    "\n",
    "```\n",
    "\n",
    "Lastly, depending on the length of the given list, either the median odd value or the median even value is returned. If the length of the list divided by 2 leaves a remainder of 0, then the second tuple item is returned, else, the first tuple value is returned."
   ]
  },
  {
   "cell_type": "markdown",
   "metadata": {},
   "source": [
    "# Mode:"
   ]
  },
  {
   "cell_type": "code",
   "execution_count": 6,
   "metadata": {},
   "outputs": [],
   "source": [
    "def mode(data_list):\n",
    "    data_list = sorted(data_list)\n",
    "    \n",
    "    a = [i for i in set(data_list)]\n",
    "    b = [data_list.count(i) for i in a]\n",
    "    \n",
    "    zipped_dict = dict(zip(b, a))\n",
    "    \n",
    "    return zipped_dict[max(zipped_dict.keys())]"
   ]
  },
  {
   "cell_type": "code",
   "execution_count": 7,
   "metadata": {},
   "outputs": [
    {
     "data": {
      "text/plain": [
       "1"
      ]
     },
     "execution_count": 7,
     "metadata": {},
     "output_type": "execute_result"
    }
   ],
   "source": [
    "mode([1, 2, 4, 8, 1, 2, 3, 1, 8, 8, 1, 3, 3, 1]) #The mode of 14 numbers; 1 has purposely been made the most common."
   ]
  },
  {
   "cell_type": "code",
   "execution_count": 8,
   "metadata": {},
   "outputs": [
    {
     "name": "stdout",
     "output_type": "stream",
     "text": [
      "[2, 0, 1, 1, 1, 4, 3, 5, 1, 5] [0, 1, 1, 1, 1, 2, 3, 4, 5, 5]\n"
     ]
    },
    {
     "data": {
      "text/plain": [
       "1"
      ]
     },
     "execution_count": 8,
     "metadata": {},
     "output_type": "execute_result"
    }
   ],
   "source": [
    "from random import randint #Import the randint function.\n",
    "\n",
    "random_numbers = [randint(0, 6) for x in range(10)] #Random list of 10 numbers, ranged between 0 and 6.\n",
    "print(random_numbers, sorted(random_numbers)) #Output list to console just so you can tell it works.\n",
    "\n",
    "mode(random_numbers) #The mode of our randomly generated numbers."
   ]
  },
  {
   "cell_type": "markdown",
   "metadata": {},
   "source": [
    "### The Function:\n",
    "\n",
    "```python\n",
    "\n",
    "def mode(data_list)\n",
    "\n",
    "```\n",
    "\n",
    "Here, we define a function called $mode$ which requires a parameter in order to execute. This parameter must be of a list/ array data structure.\n",
    "\n",
    "### Sorting The List:\n",
    "\n",
    "```python\n",
    "\n",
    "data_list = sorted(data_list)\n",
    "\n",
    "```\n",
    "\n",
    "Firstly, we use the $sorted$ function in order to sort the given list in ascending order. This will be important for when we want to zip two lists together with the indexes aligning; one will contain the unique elements from the given list and the other will count how many times that the items occur in the given list.\n",
    "\n",
    "### Removing Duplicates:\n",
    "\n",
    "```python\n",
    "\n",
    "a = [i for i in set(data_list)]\n",
    "\n",
    "```\n",
    "\n",
    "Next, we start by creating a simple list comprehension which will iterate through each unique element from the given list. This is made possible by using the $set$ function. This creates a set which contains all uniquely occuring elements from the given list.\n",
    "\n",
    "### Identifying The Frequency of Elements:\n",
    "\n",
    "```python\n",
    "\n",
    "b = [data_list.count(i) for i in a]\n",
    "\n",
    "```\n",
    "\n",
    "Here, we simply count the amount of times each element from the list $a$ occurs in the given list. This is able to happen due to the $count$ function. The frequency of each element is then stored in a list, in the variable $b$.\n",
    "\n",
    "### Zipping The Two Lists Together:\n",
    "\n",
    "```python\n",
    "\n",
    "zipped_dict = dict(zip(b, a))\n",
    "\n",
    "```\n",
    "\n",
    "The $zip$ function allows us to determine a relationship between two lists, by storing the same list indexes (of both lists) in one tuple. Coupled with the $dict$ function, we are able to put the list indexes in one dictionary element instead of a tuple; i.e the first index of the first list becomes the key, and the first index of the second list becomes it's corresponding value. This allows us to map a number from the given list to it's frequency (however many times it occurs in the given list).\n",
    "\n",
    "### The Return:\n",
    "\n",
    "```python\n",
    "\n",
    "return zipped_dict[max(zipped_dict.keys())]\n",
    "\n",
    "```\n",
    "\n",
    "Lastly, in order to find the most common number in the given list, we can take the $zipped\\_dict$ variable (the dictionary mapping the item to it's frequency) and use an indexing method to return the dictionary value assigned to the key. We can use the function $keys$ in order to get all dictionary keys and put them in a list. Since our dictionary keys contain the frequency of how many times a certain number occurs in the given list, we can use the $max$ function in order to find the highest frequency. We can use this number (the key) in order to obtain the mode (the value).\n",
    "\n",
    "Since this is an incomplete mode function, if there are multiple modes or if there is no mode, the function will simply return the highest number in the list."
   ]
  },
  {
   "cell_type": "markdown",
   "metadata": {},
   "source": [
    "# Range:"
   ]
  },
  {
   "cell_type": "code",
   "execution_count": 9,
   "metadata": {},
   "outputs": [],
   "source": [
    "def xrange(data_list):\n",
    "    data_list = sorted(data_list)\n",
    "    \n",
    "    return data_list[-1] - data_list[0]"
   ]
  },
  {
   "cell_type": "code",
   "execution_count": 10,
   "metadata": {
    "scrolled": false
   },
   "outputs": [
    {
     "data": {
      "text/plain": [
       "9"
      ]
     },
     "execution_count": 10,
     "metadata": {},
     "output_type": "execute_result"
    }
   ],
   "source": [
    "xrange([x for x in range(1, 11)]) #The range of 10 numbers, ranged between 1 and 10; in ascending order."
   ]
  },
  {
   "cell_type": "markdown",
   "metadata": {},
   "source": [
    "### The Function:\n",
    "\n",
    "```python\n",
    "\n",
    "def xrange(data_list)\n",
    "\n",
    "```\n",
    "\n",
    "Here, we define a function called $xrange$ which requires a parameter in order to execute. This parameter must be of a list/ array data structure.\n",
    "\n",
    "### Sorting The List:\n",
    "\n",
    "```python\n",
    "\n",
    "data_list = sorted(data_list)\n",
    "\n",
    "```\n",
    "\n",
    "Firstly, we use the $sorted$ function in order to sort the given list in ascending order. This will make sure that when we are finding the range, we are subtracting the smallest number (the first item in the list) away from the largest number (the last item in the list).\n",
    "\n",
    "### The Return:\n",
    "\n",
    "```python\n",
    "\n",
    "return data_list[-1] - data_list[0]\n",
    "\n",
    "```\n",
    "\n",
    "Lastly, in the return statement, we obtain the largest item from the list. This will be the last item in the list since we sorted the list in ascending order. We can do this by obtaining the value at index $-1$. We then obtain the smallest item in the list by getting the first element of the list. If we then subtract the smallest value away from the largest value, we will be left with the range of the data."
   ]
  }
 ],
 "metadata": {
  "kernelspec": {
   "display_name": "Python 3",
   "language": "python",
   "name": "python3"
  },
  "language_info": {
   "codemirror_mode": {
    "name": "ipython",
    "version": 3
   },
   "file_extension": ".py",
   "mimetype": "text/x-python",
   "name": "python",
   "nbconvert_exporter": "python",
   "pygments_lexer": "ipython3",
   "version": "3.5.2"
  }
 },
 "nbformat": 4,
 "nbformat_minor": 2
}
