{
 "cells": [
  {
   "cell_type": "code",
   "execution_count": 1,
   "metadata": {},
   "outputs": [],
   "source": [
    "male = \"\"\"\n",
    "35.7\n",
    "36.4\n",
    "36.7\n",
    "36.9\n",
    "37.1\n",
    "35.9\n",
    "36.4\n",
    "36.7\n",
    "36.9\n",
    "37.1\n",
    "36.1\n",
    "36.4\n",
    "36.7\n",
    "36.9\n",
    "37.1\n",
    "36.1\n",
    "36.4\n",
    "36.7\n",
    "36.9\n",
    "37.1\n",
    "36.2\n",
    "36.4\n",
    "36.7\n",
    "36.9\n",
    "37.2\n",
    "36.2\n",
    "36.5\n",
    "36.7\n",
    "36.9\n",
    "37.2\n",
    "36.2\n",
    "36.6\n",
    "36.7\n",
    "37.0\n",
    "37.2\n",
    "36.2\n",
    "36.6\n",
    "36.8\n",
    "37.0\n",
    "37.2\n",
    "36.3\n",
    "36.6\n",
    "36.8\n",
    "37.0\n",
    "37.3\n",
    "36.3\n",
    "36.6\n",
    "36.8\n",
    "37.0\n",
    "37.3\n",
    "36.3\n",
    "36.6\n",
    "36.8\n",
    "37.0\n",
    "37.4\n",
    "36.3\n",
    "36.6\n",
    "36.8\n",
    "37.0\n",
    "37.4\n",
    "36.3\n",
    "36.7\n",
    "36.8\n",
    "37.1\n",
    "37.5\n",
    "\"\"\"\n",
    "\n",
    "female = \"\"\"\n",
    "35.8\n",
    "36.6\n",
    "36.8\n",
    "37.0\n",
    "37.1\n",
    "35.9\n",
    "36.6\n",
    "36.8\n",
    "37.1\n",
    "37.2\n",
    "36.0\n",
    "36.7\n",
    "36.8\n",
    "37.1\n",
    "37.2\n",
    "36.2\n",
    "36.7\n",
    "36.9\n",
    "37.1\n",
    "37.2\n",
    "36.2\n",
    "36.7\n",
    "36.9\n",
    "37.1\n",
    "37.3\n",
    "36.3\n",
    "36.7\n",
    "36.9\n",
    "37.1\n",
    "37.3\n",
    "36.4\n",
    "36.7\n",
    "36.9\n",
    "37.1\n",
    "37.3\n",
    "36.5\n",
    "36.7\n",
    "36.9\n",
    "37.1\n",
    "37.3\n",
    "36.5\n",
    "36.8\n",
    "36.9\n",
    "37.1\n",
    "37.4\n",
    "36.6\n",
    "36.8\n",
    "37.0\n",
    "37.1\n",
    "37.4\n",
    "36.6\n",
    "36.8\n",
    "37.0\n",
    "37.1\n",
    "37.7\n",
    "36.6\n",
    "36.8\n",
    "37.0\n",
    "37.1\n",
    "37.8\n",
    "36.6\n",
    "36.8\n",
    "37.0\n",
    "37.1\n",
    "38.2\n",
    "\"\"\""
   ]
  },
  {
   "cell_type": "code",
   "execution_count": 2,
   "metadata": {},
   "outputs": [],
   "source": [
    "male_temp = [float(x) for x in male.split()]; female_temp = [float(y) for y in female.split()]"
   ]
  },
  {
   "cell_type": "code",
   "execution_count": 3,
   "metadata": {},
   "outputs": [],
   "source": [
    "import pandas as pd, numpy as np\n",
    "%matplotlib inline"
   ]
  },
  {
   "cell_type": "code",
   "execution_count": 4,
   "metadata": {},
   "outputs": [
    {
     "data": {
      "text/html": [
       "<div>\n",
       "<style>\n",
       "    .dataframe thead tr:only-child th {\n",
       "        text-align: right;\n",
       "    }\n",
       "\n",
       "    .dataframe thead th {\n",
       "        text-align: left;\n",
       "    }\n",
       "\n",
       "    .dataframe tbody tr th {\n",
       "        vertical-align: top;\n",
       "    }\n",
       "</style>\n",
       "<table border=\"1\" class=\"dataframe\">\n",
       "  <thead>\n",
       "    <tr style=\"text-align: right;\">\n",
       "      <th></th>\n",
       "      <th>Female Temperature</th>\n",
       "      <th>Male Temperature</th>\n",
       "    </tr>\n",
       "  </thead>\n",
       "  <tbody>\n",
       "    <tr>\n",
       "      <th>0</th>\n",
       "      <td>35.8</td>\n",
       "      <td>35.7</td>\n",
       "    </tr>\n",
       "    <tr>\n",
       "      <th>1</th>\n",
       "      <td>36.6</td>\n",
       "      <td>36.4</td>\n",
       "    </tr>\n",
       "    <tr>\n",
       "      <th>2</th>\n",
       "      <td>36.8</td>\n",
       "      <td>36.7</td>\n",
       "    </tr>\n",
       "    <tr>\n",
       "      <th>3</th>\n",
       "      <td>37.0</td>\n",
       "      <td>36.9</td>\n",
       "    </tr>\n",
       "    <tr>\n",
       "      <th>4</th>\n",
       "      <td>37.1</td>\n",
       "      <td>37.1</td>\n",
       "    </tr>\n",
       "    <tr>\n",
       "      <th>5</th>\n",
       "      <td>35.9</td>\n",
       "      <td>35.9</td>\n",
       "    </tr>\n",
       "    <tr>\n",
       "      <th>6</th>\n",
       "      <td>36.6</td>\n",
       "      <td>36.4</td>\n",
       "    </tr>\n",
       "    <tr>\n",
       "      <th>7</th>\n",
       "      <td>36.8</td>\n",
       "      <td>36.7</td>\n",
       "    </tr>\n",
       "    <tr>\n",
       "      <th>8</th>\n",
       "      <td>37.1</td>\n",
       "      <td>36.9</td>\n",
       "    </tr>\n",
       "    <tr>\n",
       "      <th>9</th>\n",
       "      <td>37.2</td>\n",
       "      <td>37.1</td>\n",
       "    </tr>\n",
       "  </tbody>\n",
       "</table>\n",
       "</div>"
      ],
      "text/plain": [
       "   Female Temperature  Male Temperature\n",
       "0                35.8              35.7\n",
       "1                36.6              36.4\n",
       "2                36.8              36.7\n",
       "3                37.0              36.9\n",
       "4                37.1              37.1\n",
       "5                35.9              35.9\n",
       "6                36.6              36.4\n",
       "7                36.8              36.7\n",
       "8                37.1              36.9\n",
       "9                37.2              37.1"
      ]
     },
     "execution_count": 4,
     "metadata": {},
     "output_type": "execute_result"
    }
   ],
   "source": [
    "df = pd.DataFrame({\"Male Temperature\": male_temp, \"Female Temperature\": female_temp})\n",
    "df.head(10)"
   ]
  },
  {
   "cell_type": "code",
   "execution_count": 5,
   "metadata": {},
   "outputs": [
    {
     "data": {
      "text/plain": [
       "<matplotlib.axes._subplots.AxesSubplot at 0x7f8240e78748>"
      ]
     },
     "execution_count": 5,
     "metadata": {},
     "output_type": "execute_result"
    },
    {
     "data": {
      "image/png": "[encoded data removed]",
      "text/plain": [
       "<matplotlib.figure.Figure at 0x7f827971c860>"
      ]
     },
     "metadata": {},
     "output_type": "display_data"
    }
   ],
   "source": [
    "df.boxplot(vert = False)"
   ]
  },
  {
   "cell_type": "code",
   "execution_count": 6,
   "metadata": {},
   "outputs": [
    {
     "data": {
      "text/plain": [
       "array([[<matplotlib.axes._subplots.AxesSubplot object at 0x7f8240bdba20>,\n",
       "        <matplotlib.axes._subplots.AxesSubplot object at 0x7f823eadb3c8>]], dtype=object)"
      ]
     },
     "execution_count": 6,
     "metadata": {},
     "output_type": "execute_result"
    },
    {
     "data": {
      "image/png": "[encoded data removed]",
      "text/plain": [
       "<matplotlib.figure.Figure at 0x7f8240be1dd8>"
      ]
     },
     "metadata": {},
     "output_type": "display_data"
    }
   ],
   "source": [
    "df.hist()"
   ]
  },
  {
   "cell_type": "code",
   "execution_count": 7,
   "metadata": {},
   "outputs": [
    {
     "data": {
      "text/plain": [
       "Female Temperature    36.892308\n",
       "Male Temperature      36.726154\n",
       "dtype: float64"
      ]
     },
     "execution_count": 7,
     "metadata": {},
     "output_type": "execute_result"
    }
   ],
   "source": [
    "df.mean()"
   ]
  },
  {
   "cell_type": "code",
   "execution_count": 8,
   "metadata": {},
   "outputs": [
    {
     "data": {
      "text/plain": [
       "Female Temperature    36.9\n",
       "Male Temperature      36.7\n",
       "dtype: float64"
      ]
     },
     "execution_count": 8,
     "metadata": {},
     "output_type": "execute_result"
    }
   ],
   "source": [
    "df.median()"
   ]
  },
  {
   "cell_type": "code",
   "execution_count": 9,
   "metadata": {},
   "outputs": [
    {
     "data": {
      "text/plain": [
       "Female Temperature    0.4\n",
       "Male Temperature      0.6\n",
       "dtype: float64"
      ]
     },
     "execution_count": 9,
     "metadata": {},
     "output_type": "execute_result"
    }
   ],
   "source": [
    "df.quantile(0.75) - df.quantile(0.25)"
   ]
  },
  {
   "cell_type": "code",
   "execution_count": 10,
   "metadata": {},
   "outputs": [
    {
     "data": {
      "text/plain": [
       "Female Temperature    0.412806\n",
       "Male Temperature      0.388216\n",
       "dtype: float64"
      ]
     },
     "execution_count": 10,
     "metadata": {},
     "output_type": "execute_result"
    }
   ],
   "source": [
    "df.std()"
   ]
  }
 ],
 "metadata": {
  "kernelspec": {
   "display_name": "Python 3",
   "language": "python",
   "name": "python3"
  },
  "language_info": {
   "codemirror_mode": {
    "name": "ipython",
    "version": 3
   },
   "file_extension": ".py",
   "mimetype": "text/x-python",
   "name": "python",
   "nbconvert_exporter": "python",
   "pygments_lexer": "ipython3",
   "version": "3.5.2"
  }
 },
 "nbformat": 4,
 "nbformat_minor": 2
}
