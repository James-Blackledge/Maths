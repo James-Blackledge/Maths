{
 "cells": [
  {
   "cell_type": "markdown",
   "metadata": {},
   "source": [
    "# PROJECT EULER."
   ]
  },
  {
   "cell_type": "markdown",
   "metadata": {},
   "source": [
    "This file contains all of my solutions to the puzzles found on [Project Euler](https://projecteuler.net/archives). \n",
    "\n",
    "**SPOILER WARNING** - If you have not completed these challenges, I would suggest that you do not look at the answers/ solutions and complete them independantly. However, if you're curious and have completed the challenges for yourself, then feel free to look at how I did each challenge. Please note, there is probably a more efficient way to do most challenges, especially those involving prime/ fibonacci numbers!"
   ]
  },
  {
   "cell_type": "code",
   "execution_count": 1,
   "metadata": {},
   "outputs": [],
   "source": [
    "import math, csv"
   ]
  },
  {
   "cell_type": "markdown",
   "metadata": {},
   "source": [
    "## COMPLETED CHALLENGES."
   ]
  },
  {
   "cell_type": "markdown",
   "metadata": {},
   "source": [
    "### [1] Multiples of 3 & 5."
   ]
  },
  {
   "cell_type": "code",
   "execution_count": 2,
   "metadata": {},
   "outputs": [],
   "source": [
    "def multiples():\n",
    "    return sum([i if i % 3 == 0 or i % 5 == 0 else 0 for i in range(1000)])"
   ]
  },
  {
   "cell_type": "code",
   "execution_count": 3,
   "metadata": {},
   "outputs": [
    {
     "data": {
      "text/plain": [
       "233168"
      ]
     },
     "execution_count": 3,
     "metadata": {},
     "output_type": "execute_result"
    }
   ],
   "source": [
    "multiples()"
   ]
  },
  {
   "cell_type": "markdown",
   "metadata": {},
   "source": [
    "### [2] Even Fibonacci Numbers."
   ]
  },
  {
   "cell_type": "code",
   "execution_count": 4,
   "metadata": {},
   "outputs": [],
   "source": [
    "def gen_fib(x):\n",
    "    if x == 0: return 0\n",
    "    if x == 1: return 1\n",
    "    \n",
    "    return gen_fib(x - 1) + gen_fib(x - 2)"
   ]
  },
  {
   "cell_type": "code",
   "execution_count": 5,
   "metadata": {},
   "outputs": [],
   "source": [
    "def calc_even():\n",
    "    total = 0\n",
    "    \n",
    "    for i in range(0, 34):\n",
    "        if gen_fib(i) % 2 == 0 and gen_fib(i) < 4000000:\n",
    "            total += gen_fib(i)\n",
    "                \n",
    "    return total"
   ]
  },
  {
   "cell_type": "code",
   "execution_count": 6,
   "metadata": {},
   "outputs": [
    {
     "data": {
      "text/plain": [
       "4613732"
      ]
     },
     "execution_count": 6,
     "metadata": {},
     "output_type": "execute_result"
    }
   ],
   "source": [
    "calc_even()"
   ]
  },
  {
   "cell_type": "markdown",
   "metadata": {},
   "source": [
    "### [7] Largest Prime Factor."
   ]
  },
  {
   "cell_type": "code",
   "execution_count": 7,
   "metadata": {},
   "outputs": [],
   "source": [
    "def is_prime(n):\n",
    "    return True if set([0 if abs(n) % i == 0 and n != 2 else 1 for i in range(2, math.ceil(abs(n) ** 0.5) + 1)]) == {1} else False"
   ]
  },
  {
   "cell_type": "code",
   "execution_count": 8,
   "metadata": {},
   "outputs": [],
   "source": [
    "def primes_up_to(n):\n",
    "    list_primes = set([i if is_prime(i) == True else 0 for i in range(1, n + 1)])\n",
    "    return list(filter(lambda x: x != 0, list_primes))"
   ]
  },
  {
   "cell_type": "code",
   "execution_count": 9,
   "metadata": {},
   "outputs": [],
   "source": [
    "def gen_primes(n):\n",
    "    arr = []; x = 1;\n",
    "    \n",
    "    while len(arr) != n: \n",
    "        if is_prime(x) == True: \n",
    "            arr.append(x); \n",
    "        x += 1\n",
    "    \n",
    "    return arr"
   ]
  },
  {
   "cell_type": "code",
   "execution_count": 10,
   "metadata": {},
   "outputs": [
    {
     "data": {
      "text/plain": [
       "104743"
      ]
     },
     "execution_count": 10,
     "metadata": {},
     "output_type": "execute_result"
    }
   ],
   "source": [
    "max(gen_primes(10001))"
   ]
  },
  {
   "cell_type": "markdown",
   "metadata": {},
   "source": [
    "### [9] Special Pythagorean Triplet."
   ]
  },
  {
   "cell_type": "code",
   "execution_count": 11,
   "metadata": {},
   "outputs": [],
   "source": [
    "def pythagorean_triplet(r):\n",
    "    st = (r ** 2) / 2\n",
    "    \n",
    "    #Dicksons Method\n",
    "    factor_pairs = [(i, int(st / i)) if st % i == 0 else 0 for i in range(1, int(st ** 0.5) + 1)]\n",
    "    final = list(filter(lambda st: st != 0, factor_pairs))\n",
    "    \n",
    "    my_map = [list(map(lambda x: r + x, final[i])) for i in range(len(final))]\n",
    "    \n",
    "    #a = r + s; b = r + t; c = r + s + t\n",
    "    final_map = [(my_map[i][0], my_map[i][1], list(map(lambda x: r + final[i][0] + final[i][1], my_map[i]))[0]) for i in range(len(my_map))]\n",
    "    \n",
    "    for i in final_map:\n",
    "        if sum(i) == 1000:\n",
    "            return i[0] * i[1] * i[2]\n",
    "    \n",
    "    return 0"
   ]
  },
  {
   "cell_type": "code",
   "execution_count": 12,
   "metadata": {},
   "outputs": [
    {
     "data": {
      "text/plain": [
       "31875000"
      ]
     },
     "execution_count": 12,
     "metadata": {},
     "output_type": "execute_result"
    }
   ],
   "source": [
    "x = 1\n",
    "\n",
    "while pythagorean_triplet(x) == 0:\n",
    "    pythagorean_triplet(x); x += 1\n",
    "\n",
    "pythagorean_triplet(x)"
   ]
  },
  {
   "cell_type": "markdown",
   "metadata": {},
   "source": [
    "### [17] Number Letter Counts."
   ]
  },
  {
   "cell_type": "code",
   "execution_count": 13,
   "metadata": {},
   "outputs": [],
   "source": [
    "def number_letter_counts(total):\n",
    "    x = [\n",
    "        \"one\", \"two\", \"three\", \"four\", \"five\", \"six\", \"seven\", \"eight\",\"nine\", \"ten\", \n",
    "        \"eleven\", \"twelve\", \"thirteen\", \"fourteen\", \"fifteen\", \"sixteen\", \"seventeen\", \"eighteen\", \"nineteen\"\n",
    "    ]\n",
    "    \n",
    "    y = [\"twenty\", \"thirty\", \"forty\", \"fifty\", \"sixty\", \"seventy\", \"eighty\", \"ninety\"]\n",
    "    x = x + y + [\"\" + y[i] + x[j] for j in range(0, 9) for i in range(0, 8)]\n",
    "    \n",
    "    for i in x:\n",
    "        total += len(i)\n",
    "        \n",
    "    for i in range(0, 9):\n",
    "        total += (len(x[i]) + len(\"hundred\"))\n",
    "        for j in range(0, 99):\n",
    "            total += (len(x[i]) + len(\"hundred\") + len(\"and\") + len(x[j]))  \n",
    "            \n",
    "    return total + len(x[0]) + len(\"thousand\")"
   ]
  },
  {
   "cell_type": "code",
   "execution_count": 14,
   "metadata": {},
   "outputs": [
    {
     "data": {
      "text/plain": [
       "21124"
      ]
     },
     "execution_count": 14,
     "metadata": {},
     "output_type": "execute_result"
    }
   ],
   "source": [
    "number_letter_counts(0)"
   ]
  },
  {
   "cell_type": "markdown",
   "metadata": {},
   "source": [
    "### [22] Name Scores."
   ]
  },
  {
   "cell_type": "code",
   "execution_count": 15,
   "metadata": {},
   "outputs": [],
   "source": [
    "def name_score(file):\n",
    "    total = 0\n",
    "    \n",
    "    with open(file, 'r') as names:\n",
    "        arr = sorted(list(csv.reader(names))[0])\n",
    "    \n",
    "    for x in range(0, len(arr)):\n",
    "        total += (sum([(ord(arr[x][i]) - 64) for i in range(0, len(arr[x]))]) * (x + 1))\n",
    "        \n",
    "    return total"
   ]
  },
  {
   "cell_type": "code",
   "execution_count": 16,
   "metadata": {},
   "outputs": [
    {
     "data": {
      "text/plain": [
       "871198282"
      ]
     },
     "execution_count": 16,
     "metadata": {},
     "output_type": "execute_result"
    }
   ],
   "source": [
    "name_score(\"p022_names.csv\")"
   ]
  },
  {
   "cell_type": "markdown",
   "metadata": {},
   "source": [
    "## INCOMPLETE CHALLENGES."
   ]
  },
  {
   "cell_type": "markdown",
   "metadata": {},
   "source": [
    "### [27] Quadratic Primes."
   ]
  },
  {
   "cell_type": "code",
   "execution_count": null,
   "metadata": {},
   "outputs": [],
   "source": [
    "def quadratic_prime(n, a, b):\n",
    "    return (n ** 2) + (abs(a) * n) + abs(b)"
   ]
  },
  {
   "cell_type": "code",
   "execution_count": null,
   "metadata": {},
   "outputs": [],
   "source": [
    "arr = []; x = 1\n",
    "\n",
    "for z in range(-1000, 1001):\n",
    "    for y in range(-999, 1000):\n",
    "        if is_prime(quadratic_prime(x, y, z)):\n",
    "            arr.append([x, y, z])\n",
    "        print(arr)"
   ]
  },
  {
   "cell_type": "markdown",
   "metadata": {},
   "source": [
    "### [46] Goldbach's Other Conjecture."
   ]
  },
  {
   "cell_type": "code",
   "execution_count": null,
   "metadata": {},
   "outputs": [],
   "source": [
    "def goldbach(p):\n",
    "    prime = gen_primes(p)\n",
    "\n",
    "    odd_composite = list(filter(lambda q: q != 0, [i if i not in prime and i % 2 != 0 else 0 for i in range(2, max(prime))]))\n",
    "\n",
    "    _a = []; _p = prime; _s = 1\n",
    "\n",
    "    for i, j in enumerate(odd_composite):\n",
    "        for k in _p:\n",
    "            while _s ** 2 < j:\n",
    "                if j == (k + (2 * (_s ** 2))) and not (0 <= i < len(_a)):\n",
    "                    _a.append((j, k, _s))\n",
    "                _s += 1\n",
    "            _s = 0\n",
    "            \n",
    "    return _a\n",
    "            \n",
    "goldbach(2000)"
   ]
  }
 ],
 "metadata": {
  "kernelspec": {
   "display_name": "Python 3",
   "language": "python",
   "name": "python3"
  },
  "language_info": {
   "codemirror_mode": {
    "name": "ipython",
    "version": 3
   },
   "file_extension": ".py",
   "mimetype": "text/x-python",
   "name": "python",
   "nbconvert_exporter": "python",
   "pygments_lexer": "ipython3",
   "version": "3.5.2"
  }
 },
 "nbformat": 4,
 "nbformat_minor": 2
}
