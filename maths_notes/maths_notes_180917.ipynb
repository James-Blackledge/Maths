{
 "cells": [
  {
   "cell_type": "markdown",
   "metadata": {},
   "source": [
    "# Expanded Brackets\n",
    "\n",
    "$y = ax^2 + bx + c$ is the general format for all quadratics; where $x$ is constant.\n",
    "\n",
    "In this form, we are able to gather the $y-intercept$ for the quadratic; if plotted on a graph.\n",
    "The $c$ coefficiant is what holds the value for the $y-intercept$.\n",
    "This is true since the parabola passes the y-axis once, yielding $x = 0$.\n",
    "\n",
    "**E.G:**\n",
    "\n",
    "Let $a = 2$, $b = 6$, $c = 5$ AND $x = 0$\n",
    "    \n",
    "$y = ax^2 + bx + c$\n",
    "\n",
    "$y = 2(0)^2 + 6(0) + 5$\n",
    "\n",
    "$y = 5$\n",
    "    \n",
    "The coordinates for this $y-intercept$ will be $(0, 5)$; as $x = 0$ AND $y = 5$.\n",
    "    \n",
    "In order to get the $x-intercepts$ (the $x$ values) we need to factorise the equation.\n",
    "\n",
    "# Factorisation\n",
    "\n",
    "$(x + m)(x + n) = 0$ is the general format for all factorised quadratics; however sometimes the $x$ constant could have a coefficient.\n",
    "\n",
    "In this form, we can identify the $x-intercepts$; or where the parabola passess through the $x-axis$.\n",
    "This is usualy set equal to zero.\n",
    "In order to factorise we need to see if there are two numbers which add up to yield $b$ and multiply to yield $c$ (when the equation is in the form $ax^2 + bx + c$).\n",
    "\n",
    "**E.G:**\n",
    "\n",
    "$x^2 + 8x + 12 = 0$\n",
    "    \n",
    "$2 * 6 = 12$\n",
    "\n",
    "$2 + 6 = 8$\n",
    "\n",
    "Both $2$ and $6$ work. Therefore, let $m = 2$ AND $n = 6$\n",
    "    \n",
    "Therefore, $(x + 2)(x + 6) = 0$\n",
    "\n",
    "To find out the values of $x$, we need to set each bracket = $0$.\n",
    "\n",
    "**E.G:**\n",
    "\n",
    "$x + 2 = 0$\n",
    "\n",
    "If we rearrange, we are left with $x = -2$\n",
    "\n",
    "$x + 6 = 0$\n",
    "\n",
    "If we rearrange, we are left with $x = -6$\n",
    "\n",
    "As the parabola passess through the $x-axis$, the $y-coordinate$ remains zero. Therefore, the coordinates for the $x-intercepts$ are:\n",
    "\n",
    "$(-2, 0)$ AND $(-6, 0)$\n",
    "\n",
    "# Completing The Square\n",
    "\n",
    "$a(x + p)^2 + q = 0$ is the general format for all completed the square equations. When the quadratic is in this form, we are able to identify the turning point of the equation if plotted on the graph. Let's complete the square for the equation $x^2 + 8x + 12 = 0$\n",
    "\n",
    "**E.G:**\n",
    "\n",
    "$ax^2 + 2apx + ap^2 + q$ is the equation we will be using to complete the square; derived from $a(x + p)^2 + q$.\n",
    "\n",
    "$2(1)px = 8x$\n",
    "\n",
    "$2p = 8$\n",
    "\n",
    "$p = 4$\n",
    "\n",
    "---\n",
    "\n",
    "$1(4)^2 + q = 12$\n",
    "\n",
    "$16 + q = 12$\n",
    "\n",
    "$q = -4$\n",
    "\n",
    "---\n",
    "\n",
    "Therefore, $a(x + p)^2 + q = (x + 4)^2 -4$\n",
    "\n",
    "The turning point for this graph is $(-4, -4)$ as we flip the middle term; $+4$ is changed to $-4$."
   ]
  },
  {
   "cell_type": "code",
   "execution_count": 1,
   "metadata": {},
   "outputs": [],
   "source": [
    "import matplotlib.pyplot as plt\n",
    "%matplotlib inline"
   ]
  },
  {
   "cell_type": "code",
   "execution_count": 2,
   "metadata": {},
   "outputs": [],
   "source": [
    "def f(x):\n",
    "    return (x**2 + 8*x + 12)"
   ]
  },
  {
   "cell_type": "code",
   "execution_count": 3,
   "metadata": {},
   "outputs": [
    {
     "data": {
      "image/png": "[encoded data removed]",
      "text/plain": [
       "<matplotlib.figure.Figure at 0x7fbf7a29c5c0>"
      ]
     },
     "metadata": {},
     "output_type": "display_data"
    }
   ],
   "source": [
    "xs = [-3, -2, -1, 0, 1, 2, 3]\n",
    "ys = [f(x) for x in xs]\n",
    "\n",
    "canvas = plt.scatter(xs, ys)"
   ]
  }
 ],
 "metadata": {
  "kernelspec": {
   "display_name": "Python 3",
   "language": "python",
   "name": "python3"
  },
  "language_info": {
   "codemirror_mode": {
    "name": "ipython",
    "version": 3
   },
   "file_extension": ".py",
   "mimetype": "text/x-python",
   "name": "python",
   "nbconvert_exporter": "python",
   "pygments_lexer": "ipython3",
   "version": "3.5.2"
  }
 },
 "nbformat": 4,
 "nbformat_minor": 2
}
