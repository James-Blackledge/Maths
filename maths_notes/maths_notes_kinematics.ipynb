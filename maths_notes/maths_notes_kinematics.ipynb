{
 "cells": [
  {
   "cell_type": "markdown",
   "metadata": {},
   "source": [
    "# SUVAT Equations:"
   ]
  },
  {
   "cell_type": "markdown",
   "metadata": {},
   "source": [
    "## $v = u + at$\n",
    "\n",
    "## $s = ut + \\frac{1}{2}at^2$\n",
    "\n",
    "## $s = \\frac{1}{2}(u + v)t$\n",
    "\n",
    "## $v^2 = u^2 + 2as$\n",
    "\n",
    "## $s = vt - \\frac{1}{2}at^2$"
   ]
  },
  {
   "cell_type": "markdown",
   "metadata": {},
   "source": [
    "### $s - Displacement$\n",
    "### $u - Initial Velocity$\n",
    "### $v - Final Velocity$\n",
    "### $a - Acceleration$\n",
    "### $t - Time$"
   ]
  }
 ],
 "metadata": {
  "kernelspec": {
   "display_name": "Python 3",
   "language": "python",
   "name": "python3"
  },
  "language_info": {
   "codemirror_mode": {
    "name": "ipython",
    "version": 3
   },
   "file_extension": ".py",
   "mimetype": "text/x-python",
   "name": "python",
   "nbconvert_exporter": "python",
   "pygments_lexer": "ipython3",
   "version": "3.5.2"
  }
 },
 "nbformat": 4,
 "nbformat_minor": 2
}
